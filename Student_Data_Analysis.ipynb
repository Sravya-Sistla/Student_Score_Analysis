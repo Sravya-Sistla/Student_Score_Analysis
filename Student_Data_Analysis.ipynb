{
 "cells": [
  {
   "cell_type": "code",
   "execution_count": 4,
   "id": "47a31763",
   "metadata": {},
   "outputs": [],
   "source": [
    "import numpy as np\n",
    "import pandas as pd\n",
    "import matplotlib.pyplot as plt\n",
    "import seaborn as sns"
   ]
  },
  {
   "cell_type": "code",
   "execution_count": 5,
   "id": "4cce3821",
   "metadata": {},
   "outputs": [],
   "source": [
    "df = pd.read_csv(\"StudentData.csv\")"
   ]
  },
  {
   "cell_type": "code",
   "execution_count": 6,
   "id": "f027c2e2",
   "metadata": {},
   "outputs": [
    {
     "data": {
      "text/html": [
       "<div>\n",
       "<style scoped>\n",
       "    .dataframe tbody tr th:only-of-type {\n",
       "        vertical-align: middle;\n",
       "    }\n",
       "\n",
       "    .dataframe tbody tr th {\n",
       "        vertical-align: top;\n",
       "    }\n",
       "\n",
       "    .dataframe thead th {\n",
       "        text-align: right;\n",
       "    }\n",
       "</style>\n",
       "<table border=\"1\" class=\"dataframe\">\n",
       "  <thead>\n",
       "    <tr style=\"text-align: right;\">\n",
       "      <th></th>\n",
       "      <th>Unnamed: 0</th>\n",
       "      <th>Gender</th>\n",
       "      <th>EthnicGroup</th>\n",
       "      <th>ParentEduc</th>\n",
       "      <th>LunchType</th>\n",
       "      <th>TestPrep</th>\n",
       "      <th>ParentMaritalStatus</th>\n",
       "      <th>PracticeSport</th>\n",
       "      <th>IsFirstChild</th>\n",
       "      <th>NrSiblings</th>\n",
       "      <th>TransportMeans</th>\n",
       "      <th>WklyStudyHours</th>\n",
       "      <th>MathScore</th>\n",
       "      <th>ReadingScore</th>\n",
       "      <th>WritingScore</th>\n",
       "    </tr>\n",
       "  </thead>\n",
       "  <tbody>\n",
       "    <tr>\n",
       "      <th>0</th>\n",
       "      <td>0</td>\n",
       "      <td>female</td>\n",
       "      <td>NaN</td>\n",
       "      <td>bachelor's degree</td>\n",
       "      <td>standard</td>\n",
       "      <td>none</td>\n",
       "      <td>married</td>\n",
       "      <td>regularly</td>\n",
       "      <td>yes</td>\n",
       "      <td>3.0</td>\n",
       "      <td>school_bus</td>\n",
       "      <td>&lt; 5</td>\n",
       "      <td>71</td>\n",
       "      <td>71</td>\n",
       "      <td>74</td>\n",
       "    </tr>\n",
       "    <tr>\n",
       "      <th>1</th>\n",
       "      <td>1</td>\n",
       "      <td>female</td>\n",
       "      <td>group C</td>\n",
       "      <td>some college</td>\n",
       "      <td>standard</td>\n",
       "      <td>NaN</td>\n",
       "      <td>married</td>\n",
       "      <td>sometimes</td>\n",
       "      <td>yes</td>\n",
       "      <td>0.0</td>\n",
       "      <td>NaN</td>\n",
       "      <td>5 - 10</td>\n",
       "      <td>69</td>\n",
       "      <td>90</td>\n",
       "      <td>88</td>\n",
       "    </tr>\n",
       "    <tr>\n",
       "      <th>2</th>\n",
       "      <td>2</td>\n",
       "      <td>female</td>\n",
       "      <td>group B</td>\n",
       "      <td>master's degree</td>\n",
       "      <td>standard</td>\n",
       "      <td>none</td>\n",
       "      <td>single</td>\n",
       "      <td>sometimes</td>\n",
       "      <td>yes</td>\n",
       "      <td>4.0</td>\n",
       "      <td>school_bus</td>\n",
       "      <td>&lt; 5</td>\n",
       "      <td>87</td>\n",
       "      <td>93</td>\n",
       "      <td>91</td>\n",
       "    </tr>\n",
       "    <tr>\n",
       "      <th>3</th>\n",
       "      <td>3</td>\n",
       "      <td>male</td>\n",
       "      <td>group A</td>\n",
       "      <td>associate's degree</td>\n",
       "      <td>free/reduced</td>\n",
       "      <td>none</td>\n",
       "      <td>married</td>\n",
       "      <td>never</td>\n",
       "      <td>no</td>\n",
       "      <td>1.0</td>\n",
       "      <td>NaN</td>\n",
       "      <td>5 - 10</td>\n",
       "      <td>45</td>\n",
       "      <td>56</td>\n",
       "      <td>42</td>\n",
       "    </tr>\n",
       "    <tr>\n",
       "      <th>4</th>\n",
       "      <td>4</td>\n",
       "      <td>male</td>\n",
       "      <td>group C</td>\n",
       "      <td>some college</td>\n",
       "      <td>standard</td>\n",
       "      <td>none</td>\n",
       "      <td>married</td>\n",
       "      <td>sometimes</td>\n",
       "      <td>yes</td>\n",
       "      <td>0.0</td>\n",
       "      <td>school_bus</td>\n",
       "      <td>5 - 10</td>\n",
       "      <td>76</td>\n",
       "      <td>78</td>\n",
       "      <td>75</td>\n",
       "    </tr>\n",
       "  </tbody>\n",
       "</table>\n",
       "</div>"
      ],
      "text/plain": [
       "   Unnamed: 0  Gender EthnicGroup          ParentEduc     LunchType TestPrep  \\\n",
       "0           0  female         NaN   bachelor's degree      standard     none   \n",
       "1           1  female     group C        some college      standard      NaN   \n",
       "2           2  female     group B     master's degree      standard     none   \n",
       "3           3    male     group A  associate's degree  free/reduced     none   \n",
       "4           4    male     group C        some college      standard     none   \n",
       "\n",
       "  ParentMaritalStatus PracticeSport IsFirstChild  NrSiblings TransportMeans  \\\n",
       "0             married     regularly          yes         3.0     school_bus   \n",
       "1             married     sometimes          yes         0.0            NaN   \n",
       "2              single     sometimes          yes         4.0     school_bus   \n",
       "3             married         never           no         1.0            NaN   \n",
       "4             married     sometimes          yes         0.0     school_bus   \n",
       "\n",
       "  WklyStudyHours  MathScore  ReadingScore  WritingScore  \n",
       "0            < 5         71            71            74  \n",
       "1         5 - 10         69            90            88  \n",
       "2            < 5         87            93            91  \n",
       "3         5 - 10         45            56            42  \n",
       "4         5 - 10         76            78            75  "
      ]
     },
     "execution_count": 6,
     "metadata": {},
     "output_type": "execute_result"
    }
   ],
   "source": [
    "df.head()"
   ]
  },
  {
   "cell_type": "code",
   "execution_count": 7,
   "id": "6b6e8c01",
   "metadata": {},
   "outputs": [
    {
     "data": {
      "text/html": [
       "<div>\n",
       "<style scoped>\n",
       "    .dataframe tbody tr th:only-of-type {\n",
       "        vertical-align: middle;\n",
       "    }\n",
       "\n",
       "    .dataframe tbody tr th {\n",
       "        vertical-align: top;\n",
       "    }\n",
       "\n",
       "    .dataframe thead th {\n",
       "        text-align: right;\n",
       "    }\n",
       "</style>\n",
       "<table border=\"1\" class=\"dataframe\">\n",
       "  <thead>\n",
       "    <tr style=\"text-align: right;\">\n",
       "      <th></th>\n",
       "      <th>Unnamed: 0</th>\n",
       "      <th>NrSiblings</th>\n",
       "      <th>MathScore</th>\n",
       "      <th>ReadingScore</th>\n",
       "      <th>WritingScore</th>\n",
       "    </tr>\n",
       "  </thead>\n",
       "  <tbody>\n",
       "    <tr>\n",
       "      <th>count</th>\n",
       "      <td>30641.000000</td>\n",
       "      <td>29069.000000</td>\n",
       "      <td>30641.000000</td>\n",
       "      <td>30641.000000</td>\n",
       "      <td>30641.000000</td>\n",
       "    </tr>\n",
       "    <tr>\n",
       "      <th>mean</th>\n",
       "      <td>499.556607</td>\n",
       "      <td>2.145894</td>\n",
       "      <td>66.558402</td>\n",
       "      <td>69.377533</td>\n",
       "      <td>68.418622</td>\n",
       "    </tr>\n",
       "    <tr>\n",
       "      <th>std</th>\n",
       "      <td>288.747894</td>\n",
       "      <td>1.458242</td>\n",
       "      <td>15.361616</td>\n",
       "      <td>14.758952</td>\n",
       "      <td>15.443525</td>\n",
       "    </tr>\n",
       "    <tr>\n",
       "      <th>min</th>\n",
       "      <td>0.000000</td>\n",
       "      <td>0.000000</td>\n",
       "      <td>0.000000</td>\n",
       "      <td>10.000000</td>\n",
       "      <td>4.000000</td>\n",
       "    </tr>\n",
       "    <tr>\n",
       "      <th>25%</th>\n",
       "      <td>249.000000</td>\n",
       "      <td>1.000000</td>\n",
       "      <td>56.000000</td>\n",
       "      <td>59.000000</td>\n",
       "      <td>58.000000</td>\n",
       "    </tr>\n",
       "    <tr>\n",
       "      <th>50%</th>\n",
       "      <td>500.000000</td>\n",
       "      <td>2.000000</td>\n",
       "      <td>67.000000</td>\n",
       "      <td>70.000000</td>\n",
       "      <td>69.000000</td>\n",
       "    </tr>\n",
       "    <tr>\n",
       "      <th>75%</th>\n",
       "      <td>750.000000</td>\n",
       "      <td>3.000000</td>\n",
       "      <td>78.000000</td>\n",
       "      <td>80.000000</td>\n",
       "      <td>79.000000</td>\n",
       "    </tr>\n",
       "    <tr>\n",
       "      <th>max</th>\n",
       "      <td>999.000000</td>\n",
       "      <td>7.000000</td>\n",
       "      <td>100.000000</td>\n",
       "      <td>100.000000</td>\n",
       "      <td>100.000000</td>\n",
       "    </tr>\n",
       "  </tbody>\n",
       "</table>\n",
       "</div>"
      ],
      "text/plain": [
       "         Unnamed: 0    NrSiblings     MathScore  ReadingScore  WritingScore\n",
       "count  30641.000000  29069.000000  30641.000000  30641.000000  30641.000000\n",
       "mean     499.556607      2.145894     66.558402     69.377533     68.418622\n",
       "std      288.747894      1.458242     15.361616     14.758952     15.443525\n",
       "min        0.000000      0.000000      0.000000     10.000000      4.000000\n",
       "25%      249.000000      1.000000     56.000000     59.000000     58.000000\n",
       "50%      500.000000      2.000000     67.000000     70.000000     69.000000\n",
       "75%      750.000000      3.000000     78.000000     80.000000     79.000000\n",
       "max      999.000000      7.000000    100.000000    100.000000    100.000000"
      ]
     },
     "execution_count": 7,
     "metadata": {},
     "output_type": "execute_result"
    }
   ],
   "source": [
    "df.describe()"
   ]
  },
  {
   "cell_type": "code",
   "execution_count": 8,
   "id": "7d433fe7",
   "metadata": {},
   "outputs": [
    {
     "name": "stdout",
     "output_type": "stream",
     "text": [
      "<class 'pandas.core.frame.DataFrame'>\n",
      "RangeIndex: 30641 entries, 0 to 30640\n",
      "Data columns (total 15 columns):\n",
      " #   Column               Non-Null Count  Dtype  \n",
      "---  ------               --------------  -----  \n",
      " 0   Unnamed: 0           30641 non-null  int64  \n",
      " 1   Gender               30641 non-null  object \n",
      " 2   EthnicGroup          28801 non-null  object \n",
      " 3   ParentEduc           28796 non-null  object \n",
      " 4   LunchType            30641 non-null  object \n",
      " 5   TestPrep             28811 non-null  object \n",
      " 6   ParentMaritalStatus  29451 non-null  object \n",
      " 7   PracticeSport        30010 non-null  object \n",
      " 8   IsFirstChild         29737 non-null  object \n",
      " 9   NrSiblings           29069 non-null  float64\n",
      " 10  TransportMeans       27507 non-null  object \n",
      " 11  WklyStudyHours       29686 non-null  object \n",
      " 12  MathScore            30641 non-null  int64  \n",
      " 13  ReadingScore         30641 non-null  int64  \n",
      " 14  WritingScore         30641 non-null  int64  \n",
      "dtypes: float64(1), int64(4), object(10)\n",
      "memory usage: 3.5+ MB\n"
     ]
    }
   ],
   "source": [
    "df.info()"
   ]
  },
  {
   "cell_type": "code",
   "execution_count": 10,
   "id": "72c1becf",
   "metadata": {},
   "outputs": [
    {
     "data": {
      "text/plain": [
       "Unnamed: 0                0\n",
       "Gender                    0\n",
       "EthnicGroup            1840\n",
       "ParentEduc             1845\n",
       "LunchType                 0\n",
       "TestPrep               1830\n",
       "ParentMaritalStatus    1190\n",
       "PracticeSport           631\n",
       "IsFirstChild            904\n",
       "NrSiblings             1572\n",
       "TransportMeans         3134\n",
       "WklyStudyHours          955\n",
       "MathScore                 0\n",
       "ReadingScore              0\n",
       "WritingScore              0\n",
       "dtype: int64"
      ]
     },
     "execution_count": 10,
     "metadata": {},
     "output_type": "execute_result"
    }
   ],
   "source": [
    "df.isnull().sum()"
   ]
  },
  {
   "cell_type": "markdown",
   "id": "d76fee34",
   "metadata": {},
   "source": [
    "# Drop unnamed column"
   ]
  },
  {
   "cell_type": "code",
   "execution_count": 11,
   "id": "26a9eea6",
   "metadata": {},
   "outputs": [
    {
     "data": {
      "text/html": [
       "<div>\n",
       "<style scoped>\n",
       "    .dataframe tbody tr th:only-of-type {\n",
       "        vertical-align: middle;\n",
       "    }\n",
       "\n",
       "    .dataframe tbody tr th {\n",
       "        vertical-align: top;\n",
       "    }\n",
       "\n",
       "    .dataframe thead th {\n",
       "        text-align: right;\n",
       "    }\n",
       "</style>\n",
       "<table border=\"1\" class=\"dataframe\">\n",
       "  <thead>\n",
       "    <tr style=\"text-align: right;\">\n",
       "      <th></th>\n",
       "      <th>Gender</th>\n",
       "      <th>EthnicGroup</th>\n",
       "      <th>ParentEduc</th>\n",
       "      <th>LunchType</th>\n",
       "      <th>TestPrep</th>\n",
       "      <th>ParentMaritalStatus</th>\n",
       "      <th>PracticeSport</th>\n",
       "      <th>IsFirstChild</th>\n",
       "      <th>NrSiblings</th>\n",
       "      <th>TransportMeans</th>\n",
       "      <th>WklyStudyHours</th>\n",
       "      <th>MathScore</th>\n",
       "      <th>ReadingScore</th>\n",
       "      <th>WritingScore</th>\n",
       "    </tr>\n",
       "  </thead>\n",
       "  <tbody>\n",
       "    <tr>\n",
       "      <th>0</th>\n",
       "      <td>female</td>\n",
       "      <td>NaN</td>\n",
       "      <td>bachelor's degree</td>\n",
       "      <td>standard</td>\n",
       "      <td>none</td>\n",
       "      <td>married</td>\n",
       "      <td>regularly</td>\n",
       "      <td>yes</td>\n",
       "      <td>3.0</td>\n",
       "      <td>school_bus</td>\n",
       "      <td>&lt; 5</td>\n",
       "      <td>71</td>\n",
       "      <td>71</td>\n",
       "      <td>74</td>\n",
       "    </tr>\n",
       "    <tr>\n",
       "      <th>1</th>\n",
       "      <td>female</td>\n",
       "      <td>group C</td>\n",
       "      <td>some college</td>\n",
       "      <td>standard</td>\n",
       "      <td>NaN</td>\n",
       "      <td>married</td>\n",
       "      <td>sometimes</td>\n",
       "      <td>yes</td>\n",
       "      <td>0.0</td>\n",
       "      <td>NaN</td>\n",
       "      <td>5 - 10</td>\n",
       "      <td>69</td>\n",
       "      <td>90</td>\n",
       "      <td>88</td>\n",
       "    </tr>\n",
       "    <tr>\n",
       "      <th>2</th>\n",
       "      <td>female</td>\n",
       "      <td>group B</td>\n",
       "      <td>master's degree</td>\n",
       "      <td>standard</td>\n",
       "      <td>none</td>\n",
       "      <td>single</td>\n",
       "      <td>sometimes</td>\n",
       "      <td>yes</td>\n",
       "      <td>4.0</td>\n",
       "      <td>school_bus</td>\n",
       "      <td>&lt; 5</td>\n",
       "      <td>87</td>\n",
       "      <td>93</td>\n",
       "      <td>91</td>\n",
       "    </tr>\n",
       "    <tr>\n",
       "      <th>3</th>\n",
       "      <td>male</td>\n",
       "      <td>group A</td>\n",
       "      <td>associate's degree</td>\n",
       "      <td>free/reduced</td>\n",
       "      <td>none</td>\n",
       "      <td>married</td>\n",
       "      <td>never</td>\n",
       "      <td>no</td>\n",
       "      <td>1.0</td>\n",
       "      <td>NaN</td>\n",
       "      <td>5 - 10</td>\n",
       "      <td>45</td>\n",
       "      <td>56</td>\n",
       "      <td>42</td>\n",
       "    </tr>\n",
       "    <tr>\n",
       "      <th>4</th>\n",
       "      <td>male</td>\n",
       "      <td>group C</td>\n",
       "      <td>some college</td>\n",
       "      <td>standard</td>\n",
       "      <td>none</td>\n",
       "      <td>married</td>\n",
       "      <td>sometimes</td>\n",
       "      <td>yes</td>\n",
       "      <td>0.0</td>\n",
       "      <td>school_bus</td>\n",
       "      <td>5 - 10</td>\n",
       "      <td>76</td>\n",
       "      <td>78</td>\n",
       "      <td>75</td>\n",
       "    </tr>\n",
       "  </tbody>\n",
       "</table>\n",
       "</div>"
      ],
      "text/plain": [
       "   Gender EthnicGroup          ParentEduc     LunchType TestPrep  \\\n",
       "0  female         NaN   bachelor's degree      standard     none   \n",
       "1  female     group C        some college      standard      NaN   \n",
       "2  female     group B     master's degree      standard     none   \n",
       "3    male     group A  associate's degree  free/reduced     none   \n",
       "4    male     group C        some college      standard     none   \n",
       "\n",
       "  ParentMaritalStatus PracticeSport IsFirstChild  NrSiblings TransportMeans  \\\n",
       "0             married     regularly          yes         3.0     school_bus   \n",
       "1             married     sometimes          yes         0.0            NaN   \n",
       "2              single     sometimes          yes         4.0     school_bus   \n",
       "3             married         never           no         1.0            NaN   \n",
       "4             married     sometimes          yes         0.0     school_bus   \n",
       "\n",
       "  WklyStudyHours  MathScore  ReadingScore  WritingScore  \n",
       "0            < 5         71            71            74  \n",
       "1         5 - 10         69            90            88  \n",
       "2            < 5         87            93            91  \n",
       "3         5 - 10         45            56            42  \n",
       "4         5 - 10         76            78            75  "
      ]
     },
     "execution_count": 11,
     "metadata": {},
     "output_type": "execute_result"
    }
   ],
   "source": [
    "df = df.drop(\"Unnamed: 0\" , axis = 1)\n",
    "df.head()"
   ]
  },
  {
   "cell_type": "markdown",
   "id": "4830167f",
   "metadata": {},
   "source": [
    "# change weekly study hours column"
   ]
  },
  {
   "cell_type": "code",
   "execution_count": 12,
   "id": "7836e39a",
   "metadata": {},
   "outputs": [
    {
     "data": {
      "text/html": [
       "<div>\n",
       "<style scoped>\n",
       "    .dataframe tbody tr th:only-of-type {\n",
       "        vertical-align: middle;\n",
       "    }\n",
       "\n",
       "    .dataframe tbody tr th {\n",
       "        vertical-align: top;\n",
       "    }\n",
       "\n",
       "    .dataframe thead th {\n",
       "        text-align: right;\n",
       "    }\n",
       "</style>\n",
       "<table border=\"1\" class=\"dataframe\">\n",
       "  <thead>\n",
       "    <tr style=\"text-align: right;\">\n",
       "      <th></th>\n",
       "      <th>Gender</th>\n",
       "      <th>EthnicGroup</th>\n",
       "      <th>ParentEduc</th>\n",
       "      <th>LunchType</th>\n",
       "      <th>TestPrep</th>\n",
       "      <th>ParentMaritalStatus</th>\n",
       "      <th>PracticeSport</th>\n",
       "      <th>IsFirstChild</th>\n",
       "      <th>NrSiblings</th>\n",
       "      <th>TransportMeans</th>\n",
       "      <th>WklyStudyHours</th>\n",
       "      <th>MathScore</th>\n",
       "      <th>ReadingScore</th>\n",
       "      <th>WritingScore</th>\n",
       "    </tr>\n",
       "  </thead>\n",
       "  <tbody>\n",
       "    <tr>\n",
       "      <th>0</th>\n",
       "      <td>female</td>\n",
       "      <td>NaN</td>\n",
       "      <td>bachelor's degree</td>\n",
       "      <td>standard</td>\n",
       "      <td>none</td>\n",
       "      <td>married</td>\n",
       "      <td>regularly</td>\n",
       "      <td>yes</td>\n",
       "      <td>3.0</td>\n",
       "      <td>school_bus</td>\n",
       "      <td>&lt; 5</td>\n",
       "      <td>71</td>\n",
       "      <td>71</td>\n",
       "      <td>74</td>\n",
       "    </tr>\n",
       "    <tr>\n",
       "      <th>1</th>\n",
       "      <td>female</td>\n",
       "      <td>group C</td>\n",
       "      <td>some college</td>\n",
       "      <td>standard</td>\n",
       "      <td>NaN</td>\n",
       "      <td>married</td>\n",
       "      <td>sometimes</td>\n",
       "      <td>yes</td>\n",
       "      <td>0.0</td>\n",
       "      <td>NaN</td>\n",
       "      <td>5 - 10</td>\n",
       "      <td>69</td>\n",
       "      <td>90</td>\n",
       "      <td>88</td>\n",
       "    </tr>\n",
       "    <tr>\n",
       "      <th>2</th>\n",
       "      <td>female</td>\n",
       "      <td>group B</td>\n",
       "      <td>master's degree</td>\n",
       "      <td>standard</td>\n",
       "      <td>none</td>\n",
       "      <td>single</td>\n",
       "      <td>sometimes</td>\n",
       "      <td>yes</td>\n",
       "      <td>4.0</td>\n",
       "      <td>school_bus</td>\n",
       "      <td>&lt; 5</td>\n",
       "      <td>87</td>\n",
       "      <td>93</td>\n",
       "      <td>91</td>\n",
       "    </tr>\n",
       "    <tr>\n",
       "      <th>3</th>\n",
       "      <td>male</td>\n",
       "      <td>group A</td>\n",
       "      <td>associate's degree</td>\n",
       "      <td>free/reduced</td>\n",
       "      <td>none</td>\n",
       "      <td>married</td>\n",
       "      <td>never</td>\n",
       "      <td>no</td>\n",
       "      <td>1.0</td>\n",
       "      <td>NaN</td>\n",
       "      <td>5 - 10</td>\n",
       "      <td>45</td>\n",
       "      <td>56</td>\n",
       "      <td>42</td>\n",
       "    </tr>\n",
       "    <tr>\n",
       "      <th>4</th>\n",
       "      <td>male</td>\n",
       "      <td>group C</td>\n",
       "      <td>some college</td>\n",
       "      <td>standard</td>\n",
       "      <td>none</td>\n",
       "      <td>married</td>\n",
       "      <td>sometimes</td>\n",
       "      <td>yes</td>\n",
       "      <td>0.0</td>\n",
       "      <td>school_bus</td>\n",
       "      <td>5 - 10</td>\n",
       "      <td>76</td>\n",
       "      <td>78</td>\n",
       "      <td>75</td>\n",
       "    </tr>\n",
       "  </tbody>\n",
       "</table>\n",
       "</div>"
      ],
      "text/plain": [
       "   Gender EthnicGroup          ParentEduc     LunchType TestPrep  \\\n",
       "0  female         NaN   bachelor's degree      standard     none   \n",
       "1  female     group C        some college      standard      NaN   \n",
       "2  female     group B     master's degree      standard     none   \n",
       "3    male     group A  associate's degree  free/reduced     none   \n",
       "4    male     group C        some college      standard     none   \n",
       "\n",
       "  ParentMaritalStatus PracticeSport IsFirstChild  NrSiblings TransportMeans  \\\n",
       "0             married     regularly          yes         3.0     school_bus   \n",
       "1             married     sometimes          yes         0.0            NaN   \n",
       "2              single     sometimes          yes         4.0     school_bus   \n",
       "3             married         never           no         1.0            NaN   \n",
       "4             married     sometimes          yes         0.0     school_bus   \n",
       "\n",
       "  WklyStudyHours  MathScore  ReadingScore  WritingScore  \n",
       "0            < 5         71            71            74  \n",
       "1         5 - 10         69            90            88  \n",
       "2            < 5         87            93            91  \n",
       "3         5 - 10         45            56            42  \n",
       "4         5 - 10         76            78            75  "
      ]
     },
     "execution_count": 12,
     "metadata": {},
     "output_type": "execute_result"
    }
   ],
   "source": [
    "df[\"WklyStudyHours\"] = df[\"WklyStudyHours\"].str.replace(\"05-Oct\",\"5-10\")\n",
    "df.head()"
   ]
  },
  {
   "cell_type": "markdown",
   "id": "0bd65de7",
   "metadata": {},
   "source": [
    "# Gender Distribution"
   ]
  },
  {
   "cell_type": "code",
   "execution_count": 15,
   "id": "c9d94c4f",
   "metadata": {},
   "outputs": [
    {
     "data": {
      "image/png": "[encoded data removed]",
      "text/plain": [
       "<Figure size 640x480 with 1 Axes>"
      ]
     },
     "metadata": {},
     "output_type": "display_data"
    },
    {
     "data": {
      "text/plain": [
       "<Figure size 300x300 with 0 Axes>"
      ]
     },
     "metadata": {},
     "output_type": "display_data"
    }
   ],
   "source": [
    "ax = sns.countplot(data = df , x = \"Gender\")\n",
    "ax.bar_label(ax.containers[0])\n",
    "plt.figure(figsize = (3,3))\n",
    "plt.show()"
   ]
  },
  {
   "cell_type": "markdown",
   "id": "395a5afe",
   "metadata": {},
   "source": [
    "### From the above chart we analysed that the number of females is more than the number of males in the given data."
   ]
  },
  {
   "cell_type": "markdown",
   "id": "1576e543",
   "metadata": {},
   "source": [
    "# Impact of Parents Education on child study"
   ]
  },
  {
   "cell_type": "code",
   "execution_count": 16,
   "id": "d609dd63",
   "metadata": {},
   "outputs": [
    {
     "name": "stdout",
     "output_type": "stream",
     "text": [
      "                    MathScore  ReadingScore  WritingScore\n",
      "ParentEduc                                               \n",
      "associate's degree  68.365586     71.124324     70.299099\n",
      "bachelor's degree   70.466627     73.062020     73.331069\n",
      "high school         64.435731     67.213997     65.421136\n",
      "master's degree     72.336134     75.832921     76.356896\n",
      "some college        66.390472     69.179708     68.501432\n",
      "some high school    62.584013     65.510785     63.632409\n"
     ]
    }
   ],
   "source": [
    "gb = df.groupby(\"ParentEduc\").agg({\"MathScore\":'mean' , \"ReadingScore\":'mean' , \"WritingScore\":'mean'})\n",
    "print(gb)"
   ]
  },
  {
   "cell_type": "code",
   "execution_count": 25,
   "id": "8ed2466d",
   "metadata": {},
   "outputs": [
    {
     "data": {
      "image/png": "[encoded data removed]",
      "text/plain": [
       "<Figure size 640x480 with 2 Axes>"
      ]
     },
     "metadata": {},
     "output_type": "display_data"
    },
    {
     "data": {
      "text/plain": [
       "<Figure size 200x200 with 0 Axes>"
      ]
     },
     "metadata": {},
     "output_type": "display_data"
    }
   ],
   "source": [
    "plt.title(\"Relationship between Parents Education and Childs Score\")\n",
    "sns.heatmap(gb , annot = True)\n",
    "plt.figure(figsize = (2,2))\n",
    "plt.show()"
   ]
  },
  {
   "cell_type": "markdown",
   "id": "96e4507b",
   "metadata": {},
   "source": [
    "### from the above chart we have analysed that there is a significant impact on childs marks due to parent education"
   ]
  },
  {
   "cell_type": "markdown",
   "id": "2acf242d",
   "metadata": {},
   "source": [
    "# Parent Marital Status Impact"
   ]
  },
  {
   "cell_type": "code",
   "execution_count": 21,
   "id": "6dd464fe",
   "metadata": {},
   "outputs": [
    {
     "name": "stdout",
     "output_type": "stream",
     "text": [
      "                     MathScore  ReadingScore  WritingScore\n",
      "ParentMaritalStatus                                       \n",
      "divorced             66.691197     69.655011     68.799146\n",
      "married              66.657326     69.389575     68.420981\n",
      "single               66.165704     69.157250     68.174440\n",
      "widowed              67.368866     69.651438     68.563452\n"
     ]
    }
   ],
   "source": [
    "gb = df.groupby(\"ParentMaritalStatus\").agg({\"MathScore\":'mean' , \"ReadingScore\":'mean' , \"WritingScore\":'mean'})\n",
    "print(gb)"
   ]
  },
  {
   "cell_type": "code",
   "execution_count": 24,
   "id": "523bba5b",
   "metadata": {},
   "outputs": [
    {
     "data": {
      "image/png": "[encoded data removed]",
      "text/plain": [
       "<Figure size 640x480 with 2 Axes>"
      ]
     },
     "metadata": {},
     "output_type": "display_data"
    },
    {
     "data": {
      "text/plain": [
       "<Figure size 200x200 with 0 Axes>"
      ]
     },
     "metadata": {},
     "output_type": "display_data"
    }
   ],
   "source": [
    "plt.title(\"Relationship between Parents Marital Status and Childs Score\")\n",
    "sns.heatmap(gb , annot = True)\n",
    "plt.figure(figsize = (2,2))\n",
    "plt.show()"
   ]
  },
  {
   "cell_type": "markdown",
   "id": "f01c89a6",
   "metadata": {},
   "source": [
    "### From this chart we can conclude that the parent marital status does not impact child scores."
   ]
  },
  {
   "cell_type": "markdown",
   "id": "fc79b697",
   "metadata": {},
   "source": [
    "# Distribution of Ethic Groups"
   ]
  },
  {
   "cell_type": "code",
   "execution_count": 26,
   "id": "2846aab5",
   "metadata": {},
   "outputs": [
    {
     "name": "stdout",
     "output_type": "stream",
     "text": [
      "[nan 'group C' 'group B' 'group A' 'group D' 'group E']\n"
     ]
    }
   ],
   "source": [
    "print(df[\"EthnicGroup\"].unique())"
   ]
  },
  {
   "cell_type": "code",
   "execution_count": 34,
   "id": "1d81b9c9",
   "metadata": {},
   "outputs": [
    {
     "data": {
      "image/png": "[encoded data removed]",
      "text/plain": [
       "<Figure size 640x480 with 1 Axes>"
      ]
     },
     "metadata": {},
     "output_type": "display_data"
    }
   ],
   "source": [
    "groupA = df.loc[(df['EthnicGroup'] == \"group A\")].count()\n",
    "groupB = df.loc[(df['EthnicGroup'] == \"group B\")].count()\n",
    "groupC = df.loc[(df['EthnicGroup'] == \"group C\")].count()\n",
    "groupD = df.loc[(df['EthnicGroup'] == \"group D\")].count()\n",
    "groupE = df.loc[(df['EthnicGroup'] == \"group E\")].count()\n",
    "\n",
    "l = [\"group A\" ,\"group B\" , \"group C\" ,\"group D\" , \"group E\" ]\n",
    "mlist = [groupA[\"EthnicGroup\"] , groupB[\"EthnicGroup\"] , groupC[\"EthnicGroup\"] , groupD[\"EthnicGroup\"] , groupE[\"EthnicGroup\"]]\n",
    "plt.title(\"Distribution of Ethnic Groups \")\n",
    "plt.pie(mlist , labels=l , autopct = \"%1.2f%%\")\n",
    "plt.show()"
   ]
  },
  {
   "cell_type": "code",
   "execution_count": null,
   "id": "c1384143",
   "metadata": {},
   "outputs": [],
   "source": []
  }
 ],
 "metadata": {
  "kernelspec": {
   "display_name": "Python 3 (ipykernel)",
   "language": "python",
   "name": "python3"
  },
  "language_info": {
   "codemirror_mode": {
    "name": "ipython",
    "version": 3
   },
   "file_extension": ".py",
   "mimetype": "text/x-python",
   "name": "python",
   "nbconvert_exporter": "python",
   "pygments_lexer": "ipython3",
   "version": "3.11.4"
  }
 },
 "nbformat": 4,
 "nbformat_minor": 5
}
